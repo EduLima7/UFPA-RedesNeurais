{
 "cells": [
  {
   "cell_type": "markdown",
   "metadata": {},
   "source": [
    "# Solução Por Pseudo Inversão"
   ]
  },
  {
   "cell_type": "markdown",
   "metadata": {},
   "source": [
    "### Exemplo: Considere o conjunto de treinamento:\n",
    "| x \t| d \t|\n",
    "|-----\t|-------\t|\n",
    "| 1 \t| 2.5 \t|\n",
    "| 1.5 \t| 5 \t|\n",
    "| 2 \t| 8.5 \t|\n",
    "| 2.5 \t| 13 \t|\n",
    "| 3 \t| 18.5 \t|\n",
    "| 3.5 \t| 25 \t|\n",
    "| 4 \t| 29.32 \t|"
   ]
  },
  {
   "cell_type": "markdown",
   "metadata": {},
   "source": [
    "#### Este conjunto é formado por uma entrada e uma saída. Considerando o modelo y(k)=X1(k)*teta1+teta0. Pede -se:"
   ]
  },
  {
   "cell_type": "markdown",
   "metadata": {},
   "source": [
    "#### a) A matriz Xa"
   ]
  },
  {
   "cell_type": "markdown",
   "metadata": {},
   "source": [
    "A matriz Xa representa os coeficientes de teta, logo Xa será:"
   ]
  },
  {
   "cell_type": "code",
   "execution_count": 1,
   "metadata": {},
   "outputs": [
    {
     "data": {
      "text/plain": [
       "array([[ 1. ,  1. ],\n",
       "       [ 1.5,  1. ],\n",
       "       [ 2. ,  1. ],\n",
       "       [ 2.5,  1. ],\n",
       "       [ 3. ,  1. ],\n",
       "       [ 3.5,  1. ],\n",
       "       [ 4. ,  1. ]])"
      ]
     },
     "execution_count": 1,
     "metadata": {},
     "output_type": "execute_result"
    }
   ],
   "source": [
    "%matplotlib inline\n",
    "import numpy as np\n",
    "Xa = np.array([[1,1],[1.5,1],[2,1],[2.5,1],[3,1],[3.5,1],[4,1]])\n",
    "Xa"
   ]
  },
  {
   "cell_type": "code",
   "execution_count": 2,
   "metadata": {},
   "outputs": [
    {
     "data": {
      "text/plain": [
       "array([  2.5 ,   5.  ,   8.5 ,  13.  ,  18.5 ,  25.  ,  29.32])"
      ]
     },
     "execution_count": 2,
     "metadata": {},
     "output_type": "execute_result"
    }
   ],
   "source": [
    "d = np.array([2.5,5,8.5,13,18.5,25,29.32]).transpose()\n",
    "d"
   ]
  },
  {
   "cell_type": "markdown",
   "metadata": {},
   "source": [
    "#### b) O vetor teta obtido por meio da solução com base em pseudo-inversão. Quais os valores de teta1 e teta0?\n",
    "\n",
    "Temos que a matriz teta é igual:\n",
    "teta = \\[Xa<sup>t</sup> Xa\\]<sup>-1</sup> Xa<sup>t</sup> d\n",
    "\n",
    "Sendo Xa<sup>t</sup>:"
   ]
  },
  {
   "cell_type": "code",
   "execution_count": 3,
   "metadata": {},
   "outputs": [
    {
     "data": {
      "text/plain": [
       "array([[ 1. ,  1.5,  2. ,  2.5,  3. ,  3.5,  4. ],\n",
       "       [ 1. ,  1. ,  1. ,  1. ,  1. ,  1. ,  1. ]])"
      ]
     },
     "execution_count": 3,
     "metadata": {},
     "output_type": "execute_result"
    }
   ],
   "source": [
    "XaT = Xa.transpose()\n",
    "XaT"
   ]
  },
  {
   "cell_type": "markdown",
   "metadata": {},
   "source": [
    "Sendo Xa<sup>t</sup> Xa :"
   ]
  },
  {
   "cell_type": "code",
   "execution_count": 4,
   "metadata": {},
   "outputs": [
    {
     "data": {
      "text/plain": [
       "array([[ 50.75,  17.5 ],\n",
       "       [ 17.5 ,   7.  ]])"
      ]
     },
     "execution_count": 4,
     "metadata": {},
     "output_type": "execute_result"
    }
   ],
   "source": [
    "R1 = XaT@Xa\n",
    "R1"
   ]
  },
  {
   "cell_type": "markdown",
   "metadata": {},
   "source": [
    "Sendo \\[Xa<sup>t</sup> Xa\\]<sup>-1</sup> :"
   ]
  },
  {
   "cell_type": "code",
   "execution_count": 5,
   "metadata": {},
   "outputs": [
    {
     "data": {
      "text/plain": [
       "array([[ 0.14285714, -0.35714286],\n",
       "       [-0.35714286,  1.03571429]])"
      ]
     },
     "execution_count": 5,
     "metadata": {},
     "output_type": "execute_result"
    }
   ],
   "source": [
    "R2 = np.linalg.inv(R1)\n",
    "R2"
   ]
  },
  {
   "cell_type": "markdown",
   "metadata": {},
   "source": [
    "Sendo \\[Xa<sup>t</sup> Xa\\]<sup>-1</sup> Xa<sup>t</sup> :"
   ]
  },
  {
   "cell_type": "code",
   "execution_count": 6,
   "metadata": {},
   "outputs": [
    {
     "data": {
      "text/plain": [
       "array([[-0.21428571, -0.14285714, -0.07142857,  0.        ,  0.07142857,\n",
       "         0.14285714,  0.21428571],\n",
       "       [ 0.67857143,  0.5       ,  0.32142857,  0.14285714, -0.03571429,\n",
       "        -0.21428571, -0.39285714]])"
      ]
     },
     "execution_count": 6,
     "metadata": {},
     "output_type": "execute_result"
    }
   ],
   "source": [
    "R3 = R2@XaT\n",
    "R3"
   ]
  },
  {
   "cell_type": "markdown",
   "metadata": {},
   "source": [
    "Sendo \\[Xa<sup>t</sup> Xa\\]<sup>-1</sup> Xa<sup>t</sup> d : "
   ]
  },
  {
   "cell_type": "code",
   "execution_count": 7,
   "metadata": {},
   "outputs": [
    {
     "data": {
      "text/plain": [
       "array([ 9.31857143, -8.75071429])"
      ]
     },
     "execution_count": 7,
     "metadata": {},
     "output_type": "execute_result"
    }
   ],
   "source": [
    "teta = R3@d\n",
    "teta"
   ]
  },
  {
   "cell_type": "markdown",
   "metadata": {},
   "source": [
    "#### c) Qual a resposta do modelo para a entrada X=2? Qual o erro associado?\n",
    "\n",
    "Levando em consideração que X1=2 e o coeficiente de teta0 como 1, temos que X pode ser representado por:"
   ]
  },
  {
   "cell_type": "code",
   "execution_count": 8,
   "metadata": {},
   "outputs": [
    {
     "data": {
      "text/plain": [
       "array([2, 1])"
      ]
     },
     "execution_count": 8,
     "metadata": {},
     "output_type": "execute_result"
    }
   ],
   "source": [
    "X1 = np.array([2, 1])\n",
    "X1"
   ]
  },
  {
   "cell_type": "markdown",
   "metadata": {},
   "source": [
    "Sendo teta representado pela matriz de coeficientes encontrada como resposta em b), podemos representar a equação fornecida na questão pela multiplicação de matrizes Y = X teta. Logo:"
   ]
  },
  {
   "cell_type": "code",
   "execution_count": 9,
   "metadata": {},
   "outputs": [
    {
     "data": {
      "text/plain": [
       "9.8864285714285653"
      ]
     },
     "execution_count": 9,
     "metadata": {},
     "output_type": "execute_result"
    }
   ],
   "source": [
    "Y1 = X1@teta\n",
    "Y1"
   ]
  },
  {
   "cell_type": "markdown",
   "metadata": {},
   "source": [
    "Onde o erro associado é igual a e= d(2) - Y1 :"
   ]
  },
  {
   "cell_type": "code",
   "execution_count": 10,
   "metadata": {},
   "outputs": [
    {
     "data": {
      "text/plain": [
       "-1.3864285714285653"
      ]
     },
     "execution_count": 10,
     "metadata": {},
     "output_type": "execute_result"
    }
   ],
   "source": [
    "e1 = d[2] - Y1\n",
    "e1"
   ]
  },
  {
   "cell_type": "markdown",
   "metadata": {},
   "source": [
    "#### d) Qual a predição do modelo para a entrada X=5?\n",
    "\n",
    "Temos o mesmo caso da letra c) só que com X=5."
   ]
  },
  {
   "cell_type": "code",
   "execution_count": 11,
   "metadata": {},
   "outputs": [
    {
     "data": {
      "text/plain": [
       "array([5, 1])"
      ]
     },
     "execution_count": 11,
     "metadata": {},
     "output_type": "execute_result"
    }
   ],
   "source": [
    "X2 = np.array([5,1])\n",
    "X2"
   ]
  },
  {
   "cell_type": "code",
   "execution_count": 12,
   "metadata": {},
   "outputs": [
    {
     "data": {
      "text/plain": [
       "37.842142857142861"
      ]
     },
     "execution_count": 12,
     "metadata": {},
     "output_type": "execute_result"
    }
   ],
   "source": [
    "Y2 = X2@teta\n",
    "Y2"
   ]
  },
  {
   "cell_type": "markdown",
   "metadata": {},
   "source": [
    "#### e) Trace os gráficos 'X' versus 'd' e 'X' versus 'Y' para os valores de X dados na tabela.\n",
    "\n",
    "Primeiramente vamos calcular os valores de Y para todos os valores de X. Sendo Y igual a:"
   ]
  },
  {
   "cell_type": "code",
   "execution_count": 13,
   "metadata": {},
   "outputs": [
    {
     "data": {
      "text/plain": [
       "array([  0.56785714,   5.22714286,   9.88642857,  14.54571429,\n",
       "        19.205     ,  23.86428571,  28.52357143])"
      ]
     },
     "execution_count": 13,
     "metadata": {},
     "output_type": "execute_result"
    }
   ],
   "source": [
    "Y = Xa@teta\n",
    "Y"
   ]
  },
  {
   "cell_type": "markdown",
   "metadata": {},
   "source": [
    "Logo temos o gráfico :"
   ]
  },
  {
   "cell_type": "code",
   "execution_count": 26,
   "metadata": {},
   "outputs": [
    {
     "data": {
      "image/png": "[encoded data removed]",
      "text/plain": [
       "<Figure size 432x288 with 1 Axes>"
      ]
     },
     "metadata": {},
     "output_type": "display_data"
    }
   ],
   "source": [
    "import matplotlib.pyplot as plt\n",
    "plt.plot(Xa[:,0],d,'r') # Xa x d (vermelho)\n",
    "plt.scatter(Xa[:,0],d,c='r')\n",
    "plt.plot(Xa[:,0],Y,'b') # Xa x Y (azul)\n",
    "plt.scatter(Xa[:,0],Y,c='b')\n",
    "plt.show()"
   ]
  },
  {
   "cell_type": "markdown",
   "metadata": {},
   "source": [
    "### Utilizando Outras Parametrizações\n",
    "\n",
    "#### Quadrática X<sup>2</sup>*teta2+X*teta1+teta0\n",
    "\n",
    "Nesse caso adicionaremos uma coluna a esquerda do Xa obtido em a) contendo os valores da coluna inicial ao quadrado."
   ]
  },
  {
   "cell_type": "code",
   "execution_count": 15,
   "metadata": {},
   "outputs": [
    {
     "data": {
      "text/plain": [
       "array([[  1.  ,   1.  ,   1.  ],\n",
       "       [  2.25,   1.5 ,   1.  ],\n",
       "       [  4.  ,   2.  ,   1.  ],\n",
       "       [  6.25,   2.5 ,   1.  ],\n",
       "       [  9.  ,   3.  ,   1.  ],\n",
       "       [ 12.25,   3.5 ,   1.  ],\n",
       "       [ 16.  ,   4.  ,   1.  ]])"
      ]
     },
     "execution_count": 15,
     "metadata": {},
     "output_type": "execute_result"
    }
   ],
   "source": [
    "Xb = np.c_[Xa[:,0].transpose()**2, Xa]\n",
    "Xb"
   ]
  },
  {
   "cell_type": "markdown",
   "metadata": {},
   "source": [
    "Agora acharemos a matriz com os valores de teta2, teta1 e teta0."
   ]
  },
  {
   "cell_type": "code",
   "execution_count": 16,
   "metadata": {},
   "outputs": [
    {
     "data": {
      "text/plain": [
       "array([ 1.24285714,  3.10428571, -2.22571429])"
      ]
     },
     "execution_count": 16,
     "metadata": {},
     "output_type": "execute_result"
    }
   ],
   "source": [
    "teta = np.linalg.pinv(Xb)@d\n",
    "teta"
   ]
  },
  {
   "cell_type": "markdown",
   "metadata": {},
   "source": [
    "Agora a nossa predição Y tem o valor:"
   ]
  },
  {
   "cell_type": "code",
   "execution_count": 17,
   "metadata": {},
   "outputs": [
    {
     "data": {
      "text/plain": [
       "array([  2.12142857,   5.22714286,   8.95428571,  13.30285714,\n",
       "        18.27285714,  23.86428571,  30.07714286])"
      ]
     },
     "execution_count": 17,
     "metadata": {},
     "output_type": "execute_result"
    }
   ],
   "source": [
    "Y = Xb@teta\n",
    "Y"
   ]
  },
  {
   "cell_type": "markdown",
   "metadata": {},
   "source": [
    "Plotando o gráfico de Xb x d e Xb x Y temos:"
   ]
  },
  {
   "cell_type": "code",
   "execution_count": 27,
   "metadata": {},
   "outputs": [
    {
     "data": {
      "image/png": "[encoded data removed]",
      "text/plain": [
       "<Figure size 432x288 with 1 Axes>"
      ]
     },
     "metadata": {},
     "output_type": "display_data"
    }
   ],
   "source": [
    "plt.plot(Xb[:,1],d,'r') # Xa x d (vermelho)\n",
    "plt.scatter(Xb[:,1],d,c='r')\n",
    "plt.plot(Xb[:,1],Y,'b') # Xa x Y (azul)\n",
    "plt.scatter(Xb[:,1],Y,c='b')\n",
    "plt.show()"
   ]
  },
  {
   "cell_type": "code",
   "execution_count": null,
   "metadata": {},
   "outputs": [],
   "source": []
  }
 ],
 "metadata": {
  "kernelspec": {
   "display_name": "Python 3",
   "language": "python",
   "name": "python3"
  },
  "language_info": {
   "codemirror_mode": {
    "name": "ipython",
    "version": 3
   },
   "file_extension": ".py",
   "mimetype": "text/x-python",
   "name": "python",
   "nbconvert_exporter": "python",
   "pygments_lexer": "ipython3",
   "version": "3.6.3"
  }
 },
 "nbformat": 4,
 "nbformat_minor": 2
}
