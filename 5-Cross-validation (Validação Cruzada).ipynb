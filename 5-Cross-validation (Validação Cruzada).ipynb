{
 "cells": [
  {
   "cell_type": "markdown",
   "metadata": {},
   "source": [
    "# Validação Cruzada (Cross-validation)"
   ]
  },
  {
   "cell_type": "markdown",
   "metadata": {},
   "source": [
    "É uma técnica de treinamento que consiste em dividir o conjunto de padrões em K grupos de treinamento e um grupo de validação. O conjunto é treinado em cada grupo de treinamento e o grupo de testes é alternado até que todos os grupos sejam usados como teste também. A essa técnica damos o nome de k-fold cross validation e quando K=N, onde N é a quantidade de padrões do conjunto, damos o nome de one-leave-out cross-validation."
   ]
  },
  {
   "cell_type": "code",
   "execution_count": 1,
   "metadata": {},
   "outputs": [
    {
     "data": {
      "text/plain": [
       "matrix([[ 1,  1,  1],\n",
       "        [ 2,  2,  2],\n",
       "        [ 3,  3,  3],\n",
       "        [ 4,  4,  4],\n",
       "        [ 5,  5,  5],\n",
       "        [ 6,  6,  6],\n",
       "        [ 7,  7,  7],\n",
       "        [ 8,  8,  8],\n",
       "        [ 9,  9,  9],\n",
       "        [10, 10, 10],\n",
       "        [11, 11, 11],\n",
       "        [12, 12, 12],\n",
       "        [13, 13, 13],\n",
       "        [14, 14, 14]])"
      ]
     },
     "metadata": {},
     "output_type": "display_data"
    },
    {
     "data": {
      "text/plain": [
       "matrix([[ 1],\n",
       "        [ 2],\n",
       "        [ 3],\n",
       "        [ 4],\n",
       "        [ 5],\n",
       "        [ 6],\n",
       "        [ 7],\n",
       "        [ 8],\n",
       "        [ 9],\n",
       "        [10],\n",
       "        [11],\n",
       "        [12],\n",
       "        [13],\n",
       "        [14]])"
      ]
     },
     "metadata": {},
     "output_type": "display_data"
    }
   ],
   "source": [
    "%matplotlib inline\n",
    "import numpy as np\n",
    "import numpy.matlib as npm\n",
    "\n",
    "#Criando o conjunto de padrões\n",
    "X = npm.repmat(np.transpose(np.matrix(np.arange(1,15))),1,3)\n",
    "D = npm.repmat(np.transpose(np.matrix(np.arange(1,15))),1,1);\n",
    "display(X,D)\n",
    "\n",
    "#Definindo a quantidade de grupos K\n",
    "K = 3"
   ]
  },
  {
   "cell_type": "code",
   "execution_count": 2,
   "metadata": {},
   "outputs": [
    {
     "data": {
      "text/plain": [
       "KFold(n_splits=3, random_state=None, shuffle=False)"
      ]
     },
     "execution_count": 2,
     "metadata": {},
     "output_type": "execute_result"
    }
   ],
   "source": [
    "from sklearn.model_selection import KFold #Importando a função K-fold que vai gerar o iterador\n",
    "kf = KFold(n_splits=K) #Definindo o iterador de acordo com o valor de K escolhido\n",
    "kf.get_n_splits(X)\n",
    "kf"
   ]
  },
  {
   "cell_type": "code",
   "execution_count": 4,
   "metadata": {},
   "outputs": [
    {
     "name": "stdout",
     "output_type": "stream",
     "text": [
      "Train:  [ 5  6  7  8  9 10 11 12 13]  Test:  [0 1 2 3 4]\n",
      "Train:  [ 0  1  2  3  4 10 11 12 13]  Test:  [5 6 7 8 9]\n",
      "Train:  [0 1 2 3 4 5 6 7 8 9]  Test:  [10 11 12 13]\n"
     ]
    }
   ],
   "source": [
    "#usando o iterador criado temos:\n",
    "for train_index, test_index in kf.split(X):\n",
    "    print(\"Train: \" ,train_index,\" Test: \", test_index)\n",
    "    X_train, X_test = X[train_index], X[test_index]\n",
    "    D_train, D_test = D[train_index], D[test_index]\n",
    "    #Aqui o treinamento deve ser realizado usando X_train e D_train\n",
    "    #Avalia o desempenho levando em consideração X_test e D_test\n",
    "    \n",
    "#Calcular média das avaliações obtidas e assim teremos a média final"
   ]
  }
 ],
 "metadata": {
  "kernelspec": {
   "display_name": "Python 3",
   "language": "python",
   "name": "python3"
  },
  "language_info": {
   "codemirror_mode": {
    "name": "ipython",
    "version": 3
   },
   "file_extension": ".py",
   "mimetype": "text/x-python",
   "name": "python",
   "nbconvert_exporter": "python",
   "pygments_lexer": "ipython3",
   "version": "3.6.3"
  }
 },
 "nbformat": 4,
 "nbformat_minor": 2
}
