{
 "cells": [
  {
   "cell_type": "markdown",
   "metadata": {},
   "source": [
    "# Parametrização escolhida y(x) = sin(X-PI)\\*X²\\*teta2+sin(X-PI)\\*X\\*teta1+teta0"
   ]
  },
  {
   "cell_type": "markdown",
   "metadata": {},
   "source": [
    "### Declarando os valores de treino de X"
   ]
  },
  {
   "cell_type": "code",
   "execution_count": 1,
   "metadata": {},
   "outputs": [
    {
     "data": {
      "text/plain": [
       "array([-5.  , -4.75, -4.5 , -4.25, -4.  , -3.75, -3.5 , -3.25, -3.  ,\n",
       "       -2.75, -2.5 , -2.25, -2.  , -1.75, -1.5 , -1.25, -1.  , -0.75,\n",
       "       -0.5 , -0.25,  0.  ,  0.25,  0.5 ,  0.75,  1.  ,  1.25,  1.5 ,\n",
       "        1.75,  2.  ,  2.25,  2.5 ,  2.75,  3.  ,  3.25,  3.5 ,  3.75,\n",
       "        4.  ,  4.25,  4.5 ,  4.75,  5.  ])"
      ]
     },
     "execution_count": 1,
     "metadata": {},
     "output_type": "execute_result"
    }
   ],
   "source": [
    "%matplotlib inline\n",
    "import numpy as np\n",
    "X = np.array([-5,-4.75,-4.5,-4.25,-4,-3.75,-3.5,-3.25,-3,-2.75,-2.5,-2.25,-2,-1.75,-1.5,-1.25,-1,-0.75,-0.5,-0.25,0,0.25,0.5,0.75,1,1.25,1.5,1.75,2,2.25,2.5,2.75,3,3.25,3.5,3.75,4,4.25,4.5,4.75,5])\n",
    "X"
   ]
  },
  {
   "cell_type": "markdown",
   "metadata": {},
   "source": [
    "### Transformando X de treino de acordo com a função Y escolhida"
   ]
  },
  {
   "cell_type": "code",
   "execution_count": 2,
   "metadata": {},
   "outputs": [
    {
     "data": {
      "text/plain": [
       "array([[ -2.39731069e+01,   4.79462137e+00,   1.00000000e+00],\n",
       "       [ -2.25465436e+01,   4.74664075e+00,   1.00000000e+00],\n",
       "       [ -1.97949849e+01,   4.39888553e+00,   1.00000000e+00],\n",
       "       [ -1.61657453e+01,   3.80370477e+00,   1.00000000e+00],\n",
       "       [ -1.21088399e+01,   3.02720998e+00,   1.00000000e+00],\n",
       "       [ -8.03758104e+00,   2.14335495e+00,   1.00000000e+00],\n",
       "       [ -4.29709454e+00,   1.22774130e+00,   1.00000000e+00],\n",
       "       [ -1.14281111e+00,   3.51634187e-01,   1.00000000e+00],\n",
       "       [  1.27008007e+00,  -4.23360024e-01,   1.00000000e+00],\n",
       "       [  2.88631125e+00,  -1.04956773e+00,   1.00000000e+00],\n",
       "       [  3.74045090e+00,  -1.49618036e+00,   1.00000000e+00],\n",
       "       [  3.93899556e+00,  -1.75066469e+00,   1.00000000e+00],\n",
       "       [  3.63718971e+00,  -1.81859485e+00,   1.00000000e+00],\n",
       "       [  3.01345696e+00,  -1.72197541e+00,   1.00000000e+00],\n",
       "       [  2.24436372e+00,  -1.49624248e+00,   1.00000000e+00],\n",
       "       [  1.48278847e+00,  -1.18623077e+00,   1.00000000e+00],\n",
       "       [  8.41470985e-01,  -8.41470985e-01,   1.00000000e+00],\n",
       "       [  3.83421803e-01,  -5.11229070e-01,   1.00000000e+00],\n",
       "       [  1.19856385e-01,  -2.39712769e-01,   1.00000000e+00],\n",
       "       [  1.54627475e-02,  -6.18509898e-02,   1.00000000e+00],\n",
       "       [ -0.00000000e+00,  -0.00000000e+00,   1.00000000e+00],\n",
       "       [ -1.54627475e-02,  -6.18509898e-02,   1.00000000e+00],\n",
       "       [ -1.19856385e-01,  -2.39712769e-01,   1.00000000e+00],\n",
       "       [ -3.83421803e-01,  -5.11229070e-01,   1.00000000e+00],\n",
       "       [ -8.41470985e-01,  -8.41470985e-01,   1.00000000e+00],\n",
       "       [ -1.48278847e+00,  -1.18623077e+00,   1.00000000e+00],\n",
       "       [ -2.24436372e+00,  -1.49624248e+00,   1.00000000e+00],\n",
       "       [ -3.01345696e+00,  -1.72197541e+00,   1.00000000e+00],\n",
       "       [ -3.63718971e+00,  -1.81859485e+00,   1.00000000e+00],\n",
       "       [ -3.93899556e+00,  -1.75066469e+00,   1.00000000e+00],\n",
       "       [ -3.74045090e+00,  -1.49618036e+00,   1.00000000e+00],\n",
       "       [ -2.88631125e+00,  -1.04956773e+00,   1.00000000e+00],\n",
       "       [ -1.27008007e+00,  -4.23360024e-01,   1.00000000e+00],\n",
       "       [  1.14281111e+00,   3.51634187e-01,   1.00000000e+00],\n",
       "       [  4.29709454e+00,   1.22774130e+00,   1.00000000e+00],\n",
       "       [  8.03758104e+00,   2.14335495e+00,   1.00000000e+00],\n",
       "       [  1.21088399e+01,   3.02720998e+00,   1.00000000e+00],\n",
       "       [  1.61657453e+01,   3.80370477e+00,   1.00000000e+00],\n",
       "       [  1.97949849e+01,   4.39888553e+00,   1.00000000e+00],\n",
       "       [  2.25465436e+01,   4.74664075e+00,   1.00000000e+00],\n",
       "       [  2.39731069e+01,   4.79462137e+00,   1.00000000e+00]])"
      ]
     },
     "execution_count": 2,
     "metadata": {},
     "output_type": "execute_result"
    }
   ],
   "source": [
    "Xb = np.c_[np.sin(X - np.pi).transpose()*(X.transpose()**2), np.sin(X - np.pi)*X, np.ones(X.shape)]\n",
    "Xb"
   ]
  },
  {
   "cell_type": "markdown",
   "metadata": {},
   "source": [
    "### Valores desejados (d) para o conjunto de treino"
   ]
  },
  {
   "cell_type": "code",
   "execution_count": 3,
   "metadata": {},
   "outputs": [
    {
     "data": {
      "text/plain": [
       "array([ 4.81294187,  4.52337649,  4.49435302,  3.96100482,  3.22643993,\n",
       "        1.9788102 ,  1.33094721,  0.37419129, -0.22743547, -0.91521885,\n",
       "       -1.26547037, -1.74315399, -1.78771528, -1.3845593 , -1.85262059,\n",
       "       -1.12465745, -0.93899454, -0.41447717,  0.04143219,  0.17860202,\n",
       "       -0.23814867, -0.09538445,  0.14292721,  0.25622313,  0.71167877,\n",
       "        1.10010086,  1.13611299,  1.57953367,  1.2528961 ,  1.98094605,\n",
       "        1.32854166,  0.75854988,  0.36168025, -0.68579938, -1.23039831,\n",
       "       -2.27254105, -2.51418071, -3.53502513, -4.98367503, -4.64237626,\n",
       "       -5.12224827])"
      ]
     },
     "execution_count": 3,
     "metadata": {},
     "output_type": "execute_result"
    }
   ],
   "source": [
    "d = np.array([4.812941869,4.523376489,4.494353022,3.961004823,3.226439934,1.978810204,1.330947208,0.37419129,-0.2274354726,-0.9152188484,-1.265470366,-1.743153988,-1.787715278,-1.384559296,-1.852620586,-1.124657454,-0.9389945386,-0.4144771713,0.04143218503,0.1786020234,-0.2381486708,-0.09538444758,0.1429272098,0.2562231259,0.7116787726,1.10010086,1.136112985,1.579533673,1.252896099,1.980946049,1.328541658,0.7585498783,0.36168025,-0.6857993833,-1.230398305,-2.272541046,-2.514180711,-3.535025128,-4.983675026,-4.642376262,-5.122248274]).transpose()\n",
    "d"
   ]
  },
  {
   "cell_type": "markdown",
   "metadata": {},
   "source": [
    "### Calculando os valores de Teta para o conjunto de treino"
   ]
  },
  {
   "cell_type": "code",
   "execution_count": 4,
   "metadata": {},
   "outputs": [
    {
     "data": {
      "text/plain": [
       "array([-0.22854471,  0.0064334 , -0.0389235 ])"
      ]
     },
     "execution_count": 4,
     "metadata": {},
     "output_type": "execute_result"
    }
   ],
   "source": [
    "teta = np.linalg.pinv(Xb)@d\n",
    "teta"
   ]
  },
  {
   "cell_type": "markdown",
   "metadata": {},
   "source": [
    "### Calculando a predição (Y) com os valores de teta encontrados"
   ]
  },
  {
   "cell_type": "code",
   "execution_count": 5,
   "metadata": {
    "scrolled": true
   },
   "outputs": [
    {
     "data": {
      "text/plain": [
       "array([ 5.47084897,  5.14450679,  4.51341537,  3.68014282,  2.74796306,\n",
       "        1.81181219,  0.95105328,  0.22452214, -0.33191722, -0.70532695,\n",
       "       -0.90340929, -0.95042282, -0.88188371, -0.7387113 , -0.56148688,\n",
       "       -0.38543845, -0.23665076, -0.12984146, -0.06785821, -0.04285534,\n",
       "       -0.0389235 , -0.03578748, -0.01307312,  0.04541659,  0.14797673,\n",
       "        0.29232846,  0.46438803,  0.63870799,  0.78063722,  0.85005037,\n",
       "        0.80631124,  0.61397538,  0.24862294, -0.29784472, -1.01310316,\n",
       "       -1.86208105, -2.78685954, -3.70904829, -4.53466276, -5.16127969,\n",
       "       -5.48700451])"
      ]
     },
     "execution_count": 5,
     "metadata": {},
     "output_type": "execute_result"
    }
   ],
   "source": [
    "Y = Xb@teta\n",
    "Y"
   ]
  },
  {
   "cell_type": "markdown",
   "metadata": {},
   "source": [
    "### Calculando o erro da predição em relação aos valores desejados"
   ]
  },
  {
   "cell_type": "code",
   "execution_count": 6,
   "metadata": {},
   "outputs": [
    {
     "data": {
      "text/plain": [
       "array([-0.6579071 , -0.6211303 , -0.01906234,  0.280862  ,  0.47847687,\n",
       "        0.16699801,  0.37989393,  0.14966915,  0.10448175, -0.2098919 ,\n",
       "       -0.36206108, -0.79273117, -0.90583157, -0.645848  , -1.29113371,\n",
       "       -0.739219  , -0.70234378, -0.28463571,  0.10929039,  0.22145736,\n",
       "       -0.19922518, -0.05959697,  0.15600033,  0.21080654,  0.56370205,\n",
       "        0.8077724 ,  0.67172496,  0.94082568,  0.47225888,  1.13089568,\n",
       "        0.52223042,  0.1445745 ,  0.11305731, -0.38795466, -0.21729514,\n",
       "       -0.41045999,  0.27267883,  0.17402316, -0.44901226,  0.51890343,\n",
       "        0.36475623])"
      ]
     },
     "execution_count": 6,
     "metadata": {},
     "output_type": "execute_result"
    }
   ],
   "source": [
    "error = d-Y\n",
    "error"
   ]
  },
  {
   "cell_type": "markdown",
   "metadata": {},
   "source": [
    "### Plotando os gráficos do conjunto de treino"
   ]
  },
  {
   "cell_type": "code",
   "execution_count": 7,
   "metadata": {
    "scrolled": true
   },
   "outputs": [
    {
     "data": {
      "image/png": "[encoded data removed]",
      "text/plain": [
       "<Figure size 432x288 with 1 Axes>"
      ]
     },
     "metadata": {},
     "output_type": "display_data"
    }
   ],
   "source": [
    "#Dados de Treino\n",
    "import matplotlib.pyplot as plt\n",
    "plt.plot(X,d,'r') # Xa x d (vermelho)\n",
    "plt.scatter(X,d,c='r')\n",
    "plt.plot(X,Y,'b') # Xa x Y (azul)\n",
    "plt.scatter(X,Y,c='b')\n",
    "plt.plot(X,error,'y') # Xa x error (amarelo)\n",
    "plt.scatter(X,error,c='y')\n",
    "plt.show()"
   ]
  },
  {
   "cell_type": "markdown",
   "metadata": {},
   "source": [
    "### Calculando o erro quadrático médio (EQM) e a sua raiz (RMSE)"
   ]
  },
  {
   "cell_type": "code",
   "execution_count": 8,
   "metadata": {},
   "outputs": [
    {
     "data": {
      "text/plain": [
       "11.524100112724073"
      ]
     },
     "execution_count": 8,
     "metadata": {},
     "output_type": "execute_result"
    }
   ],
   "source": [
    "eqm = np.sum(np.power(error,2))\n",
    "eqm"
   ]
  },
  {
   "cell_type": "code",
   "execution_count": 9,
   "metadata": {},
   "outputs": [
    {
     "data": {
      "text/plain": [
       "3.3947164996099559"
      ]
     },
     "execution_count": 9,
     "metadata": {},
     "output_type": "execute_result"
    }
   ],
   "source": [
    "rmse = np.sqrt(eqm)\n",
    "rmse"
   ]
  },
  {
   "cell_type": "markdown",
   "metadata": {},
   "source": [
    "### Lendo os valores do conjunto de teste"
   ]
  },
  {
   "cell_type": "code",
   "execution_count": 10,
   "metadata": {},
   "outputs": [
    {
     "data": {
      "text/plain": [
       "array([-5.  , -4.83, -4.66, -4.49, -4.32, -4.15, -3.98, -3.81, -3.64,\n",
       "       -3.47, -3.3 , -3.13, -2.96, -2.79, -2.62, -2.45, -2.28, -2.11,\n",
       "       -1.94, -1.77, -1.6 , -1.43, -1.26, -1.09, -0.92, -0.75, -0.58,\n",
       "       -0.41, -0.24, -0.07,  0.1 ,  0.27,  0.44,  0.61,  0.78,  0.95,\n",
       "        1.12,  1.29,  1.46,  1.63,  1.8 ,  1.97,  2.14,  2.31,  2.48,\n",
       "        2.65,  2.82,  2.99,  3.16,  3.33,  3.5 ,  3.67,  3.84,  4.01,\n",
       "        4.18,  4.35,  4.52,  4.69,  4.86])"
      ]
     },
     "execution_count": 10,
     "metadata": {},
     "output_type": "execute_result"
    }
   ],
   "source": [
    "teste = np.array([-5,-4.83,-4.66,-4.49,-4.32,-4.15,-3.98,-3.81,-3.64,-3.47,-3.3,-3.13,-2.96,-2.79,-2.62,-2.45,-2.28,-2.11,-1.94,-1.77,-1.6,-1.43,-1.26,-1.09,-0.92,-0.75,-0.58,-0.41,-0.24,-0.07,0.1,0.27,0.44,0.61,0.78,0.95,1.12,1.29,1.46,1.63,1.8,1.97,2.14,2.31,2.48,2.65,2.82,2.99,3.16,3.33,3.5,3.67,3.84,4.01,4.18,4.35,4.52,4.69,4.86])\n",
    "teste"
   ]
  },
  {
   "cell_type": "markdown",
   "metadata": {},
   "source": [
    "### Transformando X de teste de acordo com a função Y escolhida"
   ]
  },
  {
   "cell_type": "code",
   "execution_count": 11,
   "metadata": {},
   "outputs": [
    {
     "data": {
      "text/plain": [
       "(59, 3)"
      ]
     },
     "execution_count": 11,
     "metadata": {},
     "output_type": "execute_result"
    }
   ],
   "source": [
    "Xb = np.c_[np.sin(teste - np.pi).transpose()*(teste.transpose()**2), (np.sin(teste - np.pi)*teste).transpose(), np.ones(teste.shape).transpose()]\n",
    "Xb.shape"
   ]
  },
  {
   "cell_type": "markdown",
   "metadata": {},
   "source": [
    "### Calculando os valores de predição de acordo com o conjunto de teste"
   ]
  },
  {
   "cell_type": "code",
   "execution_count": 12,
   "metadata": {},
   "outputs": [
    {
     "data": {
      "text/plain": [
       "array([ 5.47084897,  5.28679937,  4.94719135,  4.48326826,  3.92778681,\n",
       "        3.31354907,  2.67205046,  2.03229226,  1.41979747,  0.85585815,\n",
       "        0.35703115, -0.06511264, -0.40399166, -0.65778618, -0.82900593,\n",
       "       -0.92388672, -0.95165586, -0.92371023, -0.85275289, -0.75193372,\n",
       "       -0.63403753, -0.51075866, -0.39209538, -0.28589021, -0.19753382,\n",
       "       -0.12984146, -0.08310179, -0.05528882, -0.04241967, -0.03903332,\n",
       "       -0.03875956, -0.03494282, -0.02128297,  0.00754586,  0.05533602,\n",
       "        0.12388151,  0.21263754,  0.31852844,  0.43592011,  0.556765  ,\n",
       "        0.67091865,  0.76661751,  0.83109928,  0.85133862,  0.81486414,\n",
       "        0.71061697,  0.5298072 ,  0.26672271, -0.08055537, -0.50957367,\n",
       "       -1.01310316, -1.57894397, -2.18996301, -2.82437964, -3.45630368,\n",
       "       -4.05651899, -4.59349418, -5.03459078, -5.34742848])"
      ]
     },
     "execution_count": 12,
     "metadata": {},
     "output_type": "execute_result"
    }
   ],
   "source": [
    "#Predição com dados de Teste\n",
    "Y2 = Xb@teta\n",
    "Y2"
   ]
  },
  {
   "cell_type": "markdown",
   "metadata": {},
   "source": [
    "### Valores desejados para o conjunto de teste"
   ]
  },
  {
   "cell_type": "code",
   "execution_count": 13,
   "metadata": {},
   "outputs": [
    {
     "data": {
      "text/plain": [
       "array([ 4.73433932,  4.83459764,  4.82822255,  4.31425522,  4.36012678,\n",
       "        3.39623961,  3.03422728,  2.5148567 ,  1.75761128,  1.32374305,\n",
       "        0.59498587, -0.22013959, -0.9553187 , -0.51753077, -1.43352838,\n",
       "       -1.51517205, -1.56227618, -1.73151743, -1.9483461 , -1.74690543,\n",
       "       -1.50334535, -0.91543956, -1.22294904, -0.58600525, -0.45890712,\n",
       "       -0.37958006, -0.41414171, -0.1301595 , -0.03377591, -0.34512434,\n",
       "        0.0460891 , -0.17395915,  0.05540967,  0.26903461,  0.14577738,\n",
       "        0.50402633,  0.89625983,  0.63409764,  1.54562057,  2.07571677,\n",
       "        1.88479653,  1.67175297,  1.8539363 ,  1.43070513,  1.94305311,\n",
       "        1.45918419,  1.06977325,  0.24373298,  0.01711867, -0.75309463,\n",
       "       -1.29857873, -1.98161002, -2.70751534, -3.27205479, -3.64904041,\n",
       "       -4.46474908, -4.29298639, -4.71567367, -4.64251871])"
      ]
     },
     "execution_count": 13,
     "metadata": {},
     "output_type": "execute_result"
    }
   ],
   "source": [
    "#Valor esperado para os dados de Teste\n",
    "d2 = np.array([4.734339318,4.834597639,4.828222554,4.314255222,4.360126776,3.396239611,3.03422728,2.514856695,1.75761128,1.32374305,0.5949858676,-0.2201395949,-0.9553186979,-0.5175307722,-1.433528377,-1.515172047,-1.56227618,-1.731517431,-1.948346095,-1.746905426,-1.503345352,-0.9154395634,-1.222949037,-0.586005252,-0.4589071152,-0.3795800572,-0.4141417112,-0.1301594979,-0.03377591382,-0.3451243435,0.04608909605,-0.1739591549,0.05540967206,0.269034611,0.145777377,0.5040263296,0.8962598324,0.6340976446,1.545620566,2.075716774,1.884796531,1.671752973,1.853936298,1.430705131,1.943053113,1.459184187,1.069773249,0.2437329808,0.01711866568,-0.753094628,-1.298578729,-1.981610017,-2.707515339,-3.272054793,-3.649040413,-4.464749079,-4.292986392,-4.715673674,-4.64251871])\n",
    "d2"
   ]
  },
  {
   "cell_type": "markdown",
   "metadata": {},
   "source": [
    "### Calculando o erro da predição de teste em relação aos valores desejados"
   ]
  },
  {
   "cell_type": "code",
   "execution_count": 14,
   "metadata": {},
   "outputs": [
    {
     "data": {
      "text/plain": [
       "array([-0.73650965, -0.45220174, -0.1189688 , -0.16901304,  0.43233997,\n",
       "        0.08269054,  0.36217682,  0.48256443,  0.33781381,  0.4678849 ,\n",
       "        0.23795472, -0.15502695, -0.55132704,  0.14025541, -0.60452245,\n",
       "       -0.59128533, -0.61062032, -0.8078072 , -1.09559321, -0.99497171,\n",
       "       -0.86930782, -0.40468091, -0.83085366, -0.30011504, -0.2613733 ,\n",
       "       -0.2497386 , -0.33103992, -0.07487067,  0.00864376, -0.30609102,\n",
       "        0.08484865, -0.13901633,  0.07669265,  0.26148875,  0.09044135,\n",
       "        0.38014482,  0.68362229,  0.3155692 ,  1.10970046,  1.51895177,\n",
       "        1.21387788,  0.90513546,  1.02283702,  0.57936651,  1.12818897,\n",
       "        0.74856722,  0.53996605, -0.02298973,  0.09767403, -0.24352096,\n",
       "       -0.28547556, -0.40266605, -0.51755233, -0.44767516, -0.19273674,\n",
       "       -0.40823009,  0.30050779,  0.3189171 ,  0.70490977])"
      ]
     },
     "execution_count": 14,
     "metadata": {},
     "output_type": "execute_result"
    }
   ],
   "source": [
    "error2 = d2-Y2\n",
    "error2"
   ]
  },
  {
   "cell_type": "markdown",
   "metadata": {},
   "source": [
    "### Plotando os gráficos do conjunto de teste"
   ]
  },
  {
   "cell_type": "code",
   "execution_count": 15,
   "metadata": {},
   "outputs": [
    {
     "data": {
      "image/png": "[encoded data removed]",
      "text/plain": [
       "<Figure size 432x288 with 1 Axes>"
      ]
     },
     "metadata": {},
     "output_type": "display_data"
    }
   ],
   "source": [
    "#Dados de Teste\n",
    "plt.plot(teste,d2,'r') # Xa x d (vermelho)\n",
    "plt.scatter(teste,d2,c='r')\n",
    "plt.plot(teste,Y2,'b') # Xa x Y (azul)\n",
    "plt.scatter(teste,Y2,c='b')\n",
    "plt.plot(teste,error2,'y') # Xa x error (amarelo)\n",
    "plt.scatter(teste,error2,c='y')\n",
    "plt.show()"
   ]
  },
  {
   "cell_type": "markdown",
   "metadata": {},
   "source": [
    "### Calculando o erro quadrático médio (EQM) e a sua raiz (RMSE)"
   ]
  },
  {
   "cell_type": "code",
   "execution_count": 16,
   "metadata": {},
   "outputs": [
    {
     "data": {
      "text/plain": [
       "19.887428203724987"
      ]
     },
     "execution_count": 16,
     "metadata": {},
     "output_type": "execute_result"
    }
   ],
   "source": [
    "eqm2 = np.sum(np.power(error2,2))\n",
    "eqm2"
   ]
  },
  {
   "cell_type": "code",
   "execution_count": 17,
   "metadata": {},
   "outputs": [
    {
     "data": {
      "text/plain": [
       "4.459532285310309"
      ]
     },
     "execution_count": 17,
     "metadata": {},
     "output_type": "execute_result"
    }
   ],
   "source": [
    "rmse2 = np.sqrt(eqm2)\n",
    "rmse2"
   ]
  }
 ],
 "metadata": {
  "kernelspec": {
   "display_name": "Python 3",
   "language": "python",
   "name": "python3"
  },
  "language_info": {
   "codemirror_mode": {
    "name": "ipython",
    "version": 3
   },
   "file_extension": ".py",
   "mimetype": "text/x-python",
   "name": "python",
   "nbconvert_exporter": "python",
   "pygments_lexer": "ipython3",
   "version": "3.6.3"
  }
 },
 "nbformat": 4,
 "nbformat_minor": 2
}
