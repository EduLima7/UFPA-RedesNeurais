{
 "cells": [
  {
   "cell_type": "markdown",
   "metadata": {},
   "source": [
    "# ELM com Escalonamento"
   ]
  },
  {
   "cell_type": "markdown",
   "metadata": {},
   "source": [
    "Utilizaremos o algoritmo de ELM desenvolvido no arquivo 3, e aplicaremos escalonamento."
   ]
  },
  {
   "cell_type": "code",
   "execution_count": 1,
   "metadata": {},
   "outputs": [
    {
     "data": {
      "text/plain": [
       "array([[ 271.8 ,  783.35,   33.53,   40.55,   16.66,   13.2 ],\n",
       "       [ 264.  ,  748.45,   36.5 ,   36.19,   16.46,   14.11],\n",
       "       [ 238.8 ,  684.45,   34.66,   37.31,   17.66,   15.68],\n",
       "       [ 230.7 ,  827.8 ,   33.13,   32.52,   17.5 ,   10.53],\n",
       "       [ 251.6 ,  860.45,   35.75,   33.71,   16.4 ,   11.  ],\n",
       "       [ 257.9 ,  875.15,   34.46,   34.14,   16.28,   11.31],\n",
       "       [ 263.9 ,  909.45,   34.6 ,   34.85,   16.06,   11.96],\n",
       "       [ 266.5 ,  905.55,   35.38,   35.89,   15.93,   12.58],\n",
       "       [ 229.1 ,  756.  ,   35.85,   33.53,   16.6 ,   10.66],\n",
       "       [ 239.3 ,  769.35,   35.68,   33.79,   16.41,   10.85],\n",
       "       [ 258.  ,  793.5 ,   35.35,   34.72,   16.17,   11.41],\n",
       "       [ 257.6 ,  801.65,   35.04,   35.22,   15.92,   11.91],\n",
       "       [ 267.3 ,  819.65,   34.07,   36.5 ,   16.04,   12.85],\n",
       "       [ 267.  ,  808.55,   32.2 ,   37.6 ,   16.19,   13.58],\n",
       "       [ 259.6 ,  774.95,   34.32,   37.89,   16.62,   14.21],\n",
       "       [ 240.4 ,  711.85,   31.08,   37.71,   17.37,   15.56],\n",
       "       [ 227.2 ,  694.85,   35.73,   37.  ,   18.12,   15.83],\n",
       "       [ 196.  ,  638.1 ,   34.11,   36.76,   18.53,   16.41],\n",
       "       [ 278.7 ,  774.55,   34.79,   34.62,   15.54,   13.1 ],\n",
       "       [ 272.3 ,  757.9 ,   35.77,   35.4 ,   15.7 ,   13.63],\n",
       "       [ 267.4 ,  753.35,   36.44,   35.96,   16.45,   14.51],\n",
       "       [ 254.5 ,  704.7 ,   37.82,   36.26,   17.62,   15.38],\n",
       "       [ 224.7 ,  666.8 ,   35.07,   36.34,   18.12,   16.1 ],\n",
       "       [ 181.5 ,  568.55,   35.26,   35.9 ,   19.05,   16.73],\n",
       "       [ 227.5 ,  653.1 ,   35.56,   31.84,   16.51,   10.58],\n",
       "       [ 253.6 ,  704.05,   35.73,   33.16,   16.02,   11.28],\n",
       "       [ 263.  ,  709.6 ,   36.46,   33.83,   15.89,   11.91],\n",
       "       [ 265.8 ,  726.9 ,   36.26,   34.89,   15.83,   12.65],\n",
       "       [ 263.8 ,  697.15,   37.2 ,   36.27,   16.71,   14.06]])"
      ]
     },
     "execution_count": 1,
     "metadata": {},
     "output_type": "execute_result"
    }
   ],
   "source": [
    "%matplotlib inline\n",
    "import numpy as np\n",
    "#Valores de X\n",
    "heatflux = np.array([[271.8,\t783.35,\t33.53,\t40.55,\t16.66,\t13.2],[264,\t748.45,\t36.5,\t36.19,\t16.46,\t14.11],[238.8,\t684.45,\t34.66,\t37.31,\t17.66,\t15.68],[230.7,\t827.8,\t33.13,\t32.52,\t17.5,\t10.53],[251.6,\t860.45,\t35.75,\t33.71,\t16.4,\t11],[257.9,\t875.15,34.46,\t34.14,\t16.28,\t11.31],[263.9,\t909.45,\t34.6,\t34.85,\t16.06,\t11.96],[266.5,\t905.55,\t35.38,\t35.89,\t15.93,\t12.58],[229.1,\t756,\t35.85,\t33.53,\t16.6,\t10.66],[239.3,\t769.35,\t35.68,\t33.79,\t16.41,\t10.85],[258,\t793.5,\t35.35,\t34.72,\t16.17,\t11.41],[257.6,\t801.65,\t35.04,\t35.22,\t15.92,\t11.91],[267.3,\t819.65,\t34.07,\t36.5,\t16.04,\t12.85],[267,\t808.55,\t32.2,\t37.6,\t16.19,\t13.58],[259.6,\t774.95,\t34.32,\t37.89,\t16.62,\t14.21],[240.4,\t711.85,\t31.08,\t37.71,\t17.37,\t15.56],[227.2,\t694.85,\t35.73,\t37,\t18.12,\t15.83],[196,\t638.1,\t34.11,\t36.76,\t18.53,\t16.41],[278.7,\t774.55,\t34.79,\t34.62,\t15.54,\t13.1],[272.3,\t757.9,\t35.77,\t35.4,\t15.7,\t13.63],[267.4,\t753.35,\t36.44,\t35.96,\t16.45,\t14.51],[254.5,\t704.7,\t37.82,\t36.26,\t17.62,\t15.38],[224.7,\t666.8,\t35.07,\t36.34,\t18.12,\t16.1],[181.5,\t568.55,\t35.26,\t35.9,\t19.05,\t16.73],[227.5,\t653.1,\t35.56,\t31.84,\t16.51,\t10.58],[253.6,\t704.05,\t35.73,\t33.16,\t16.02,\t11.28],[263,\t709.6,\t36.46,\t33.83,\t15.89,\t11.91],[265.8,\t726.9,\t36.26,\t34.89,\t15.83,\t12.65],[263.8,\t697.15,\t37.2,\t36.27,\t16.71,\t14.06]])\n",
    "heatflux"
   ]
  },
  {
   "cell_type": "code",
   "execution_count": 2,
   "metadata": {},
   "outputs": [],
   "source": [
    "#Utilizaremos uma função para treinamento da ELM de acordo com o explicado no documento 3\n",
    "def treinaelm(X,D,P):\n",
    "    U = np.random.randn(P, 2) #Distribuição Gaussiana\n",
    "    Xa = np.c_[X, np.ones(X.shape[0])]\n",
    "    S = Xa@np.transpose(U)\n",
    "    H = np.tanh(S)\n",
    "    Ha = np.c_[H,np.ones(X.shape[0])]\n",
    "    V = np.transpose(np.linalg.pinv(Ha)@D)\n",
    "    R = Ha@np.transpose(V)\n",
    "    Y = R\n",
    "    E = D-Y\n",
    "    EQM = 1/(D.shape[0])*(np.transpose(E)@E)  #EQM da rede\n",
    "    return (U,V,Y,E,EQM)"
   ]
  },
  {
   "cell_type": "code",
   "execution_count": 3,
   "metadata": {},
   "outputs": [],
   "source": [
    "#Utilizaremos uma função para cálculo do erro da ELM de acordo com o explicado no documento 3\n",
    "def erroelm(X,D,U,V):\n",
    "    Xa = np.c_[X,np.ones(X.shape[0])]\n",
    "    S = Xa@np.transpose(U)\n",
    "    H = np.tanh(S)\n",
    "    Ha = np.c_[H,np.ones(X.shape[0])]\n",
    "    R = Ha@np.transpose(V)\n",
    "    Y = R\n",
    "    E = D-Y\n",
    "    EQM = 1/(D.shape[0])*(np.transpose(E)@E)\n",
    "    return (Y,E,EQM)"
   ]
  },
  {
   "cell_type": "code",
   "execution_count": 4,
   "metadata": {},
   "outputs": [
    {
     "data": {
      "text/plain": [
       "array([ 40.55,  36.19,  37.31,  32.52,  33.71,  34.14,  34.85,  35.89,\n",
       "        33.53,  33.79,  34.72,  35.22,  36.5 ,  37.6 ,  37.89,  37.71,\n",
       "        37.  ,  36.76,  34.62,  35.4 ,  35.96,  36.26,  36.34,  35.9 ,\n",
       "        31.84,  33.16,  33.83,  34.89,  36.27])"
      ]
     },
     "execution_count": 4,
     "metadata": {},
     "output_type": "execute_result"
    }
   ],
   "source": [
    "#Iremos usar o valor da coluna 3 que corresponde a insolação\n",
    "X = heatflux[:,3]\n",
    "X"
   ]
  },
  {
   "cell_type": "code",
   "execution_count": 5,
   "metadata": {},
   "outputs": [
    {
     "data": {
      "text/plain": [
       "array([ 783.35,  748.45,  684.45,  827.8 ,  860.45,  875.15,  909.45,\n",
       "        905.55,  756.  ,  769.35,  793.5 ,  801.65,  819.65,  808.55,\n",
       "        774.95,  711.85,  694.85,  638.1 ,  774.55,  757.9 ,  753.35,\n",
       "        704.7 ,  666.8 ,  568.55,  653.1 ,  704.05,  709.6 ,  726.9 ,\n",
       "        697.15])"
      ]
     },
     "execution_count": 5,
     "metadata": {},
     "output_type": "execute_result"
    }
   ],
   "source": [
    "#A coluna que representa as saídas desejadas são\n",
    "D = heatflux[:,1]\n",
    "D"
   ]
  },
  {
   "cell_type": "code",
   "execution_count": 6,
   "metadata": {},
   "outputs": [
    {
     "data": {
      "text/plain": [
       "array([ 5,  1, 23, 28,  8, 13,  6, 22, 14, 17, 21, 11, 10,  9, 12, 15,  0,\n",
       "       25, 16, 26,  3, 18,  2, 20,  7, 27, 24, 19,  4])"
      ]
     },
     "execution_count": 6,
     "metadata": {},
     "output_type": "execute_result"
    }
   ],
   "source": [
    "#Criando array de permutação para permutar as linhas de X e D\n",
    "ind = np.random.permutation(X.shape[0])\n",
    "ind"
   ]
  },
  {
   "cell_type": "code",
   "execution_count": 7,
   "metadata": {},
   "outputs": [
    {
     "data": {
      "text/plain": [
       "array([ 34.14,  36.19,  35.9 ,  36.27,  33.53,  37.6 ,  34.85,  36.34,\n",
       "        37.89,  36.76,  36.26,  35.22,  34.72,  33.79,  36.5 ,  37.71,\n",
       "        40.55,  33.16,  37.  ,  33.83,  32.52,  34.62,  37.31,  35.96,\n",
       "        35.89,  34.89,  31.84,  35.4 ,  33.71])"
      ]
     },
     "execution_count": 7,
     "metadata": {},
     "output_type": "execute_result"
    }
   ],
   "source": [
    "#Permutando as linhas de X\n",
    "X = X[ind]\n",
    "X"
   ]
  },
  {
   "cell_type": "code",
   "execution_count": 8,
   "metadata": {},
   "outputs": [
    {
     "data": {
      "text/plain": [
       "array([ 875.15,  748.45,  568.55,  697.15,  756.  ,  808.55,  909.45,\n",
       "        666.8 ,  774.95,  638.1 ,  704.7 ,  801.65,  793.5 ,  769.35,\n",
       "        819.65,  711.85,  783.35,  704.05,  694.85,  709.6 ,  827.8 ,\n",
       "        774.55,  684.45,  753.35,  905.55,  726.9 ,  653.1 ,  757.9 ,\n",
       "        860.45])"
      ]
     },
     "execution_count": 8,
     "metadata": {},
     "output_type": "execute_result"
    }
   ],
   "source": [
    "#Permutando as linhas de D\n",
    "D = D[ind]\n",
    "D"
   ]
  },
  {
   "cell_type": "code",
   "execution_count": 9,
   "metadata": {},
   "outputs": [
    {
     "data": {
      "text/plain": [
       "21"
      ]
     },
     "execution_count": 9,
     "metadata": {},
     "output_type": "execute_result"
    }
   ],
   "source": [
    "#Quantidade de padrões selecionados para treinamento\n",
    "numtr = int(np.ceil(X.shape[0]*0.7))\n",
    "numtr"
   ]
  },
  {
   "cell_type": "code",
   "execution_count": 10,
   "metadata": {},
   "outputs": [
    {
     "data": {
      "text/plain": [
       "array([ 34.14,  36.19,  35.9 ,  36.27,  33.53,  37.6 ,  34.85,  36.34,\n",
       "        37.89,  36.76,  36.26,  35.22,  34.72,  33.79,  36.5 ,  37.71,\n",
       "        40.55,  33.16,  37.  ,  33.83,  32.52])"
      ]
     },
     "execution_count": 10,
     "metadata": {},
     "output_type": "execute_result"
    }
   ],
   "source": [
    "#Selecionando X de treinamento\n",
    "Xtr = X[0:numtr]\n",
    "Xtr"
   ]
  },
  {
   "cell_type": "code",
   "execution_count": 11,
   "metadata": {},
   "outputs": [
    {
     "data": {
      "text/plain": [
       "array([ 875.15,  748.45,  568.55,  697.15,  756.  ,  808.55,  909.45,\n",
       "        666.8 ,  774.95,  638.1 ,  704.7 ,  801.65,  793.5 ,  769.35,\n",
       "        819.65,  711.85,  783.35,  704.05,  694.85,  709.6 ,  827.8 ])"
      ]
     },
     "execution_count": 11,
     "metadata": {},
     "output_type": "execute_result"
    }
   ],
   "source": [
    "#Selecionando D de treinamento\n",
    "Dtr = D[0:numtr]\n",
    "Dtr"
   ]
  },
  {
   "cell_type": "code",
   "execution_count": 12,
   "metadata": {},
   "outputs": [
    {
     "data": {
      "text/plain": [
       "array([ 34.62,  37.31,  35.96,  35.89,  34.89,  31.84,  35.4 ,  33.71])"
      ]
     },
     "metadata": {},
     "output_type": "display_data"
    },
    {
     "data": {
      "text/plain": [
       "array([ 774.55,  684.45,  753.35,  905.55,  726.9 ,  653.1 ,  757.9 ,\n",
       "        860.45])"
      ]
     },
     "metadata": {},
     "output_type": "display_data"
    }
   ],
   "source": [
    "#Selecionando X e D para testes\n",
    "Xtst = X[numtr:]\n",
    "Dtst = D[numtr:]\n",
    "display(Xtst,Dtst)"
   ]
  },
  {
   "cell_type": "code",
   "execution_count": 13,
   "metadata": {},
   "outputs": [
    {
     "data": {
      "text/plain": [
       "40.549999999999997"
      ]
     },
     "metadata": {},
     "output_type": "display_data"
    },
    {
     "data": {
      "text/plain": [
       "32.520000000000003"
      ]
     },
     "metadata": {},
     "output_type": "display_data"
    },
    {
     "data": {
      "text/plain": [
       "909.45000000000005"
      ]
     },
     "metadata": {},
     "output_type": "display_data"
    },
    {
     "data": {
      "text/plain": [
       "568.54999999999995"
      ]
     },
     "metadata": {},
     "output_type": "display_data"
    }
   ],
   "source": [
    "#Selecionando os valores minimos e máximos de X e D\n",
    "Xtrmax = np.max(Xtr)\n",
    "Xtrmin = np.min(Xtr)\n",
    "Dtrmax = np.max(Dtr)\n",
    "Dtrmin = np.min(Dtr)\n",
    "display(Xtrmax,Xtrmin,Dtrmax,Dtrmin)"
   ]
  },
  {
   "cell_type": "code",
   "execution_count": 14,
   "metadata": {},
   "outputs": [],
   "source": [
    "#Definindo os intervalos de escalonamento para o conjunto de treinamento (intervalos)\n",
    "Xtremin = -1;\n",
    "Xtremax = 1;\n",
    "Dtremin = -1\n",
    "Dtremax = 1"
   ]
  },
  {
   "cell_type": "code",
   "execution_count": 15,
   "metadata": {},
   "outputs": [
    {
     "data": {
      "text/plain": [
       "array([-0.59651308, -0.08592777, -0.15815691, -0.06600249, -0.74844334,\n",
       "        0.26525529, -0.41967621, -0.04856787,  0.33748443,  0.05603985,\n",
       "       -0.06849315, -0.32752179, -0.45205479, -0.68368618, -0.00871731,\n",
       "        0.29265255,  1.        , -0.84059776,  0.11581569, -0.67372354, -1.        ])"
      ]
     },
     "metadata": {},
     "output_type": "display_data"
    },
    {
     "data": {
      "text/plain": [
       "array([ 0.79876797,  0.05544148, -1.        , -0.24552655,  0.09973599,\n",
       "        0.40803755,  1.        , -0.42358463,  0.21091229, -0.59196245,\n",
       "       -0.20123203,  0.36755647,  0.31974186,  0.17805808,  0.47315928,\n",
       "       -0.15928425,  0.26019361, -0.20504547, -0.25902024, -0.1724846 ,\n",
       "        0.52097389])"
      ]
     },
     "metadata": {},
     "output_type": "display_data"
    }
   ],
   "source": [
    "#Escalonando X e D\n",
    "Xtre = (Xtremax-Xtremin)*(Xtr-Xtrmin)/(Xtrmax-Xtrmin)+Xtremin\n",
    "Dtre = (Dtremax-Dtremin)*(Dtr-Dtrmin)/(Dtrmax-Dtrmin)+Dtremin;\n",
    "display(Xtre,Dtre)"
   ]
  },
  {
   "cell_type": "code",
   "execution_count": 16,
   "metadata": {},
   "outputs": [],
   "source": [
    "#Quantidade de camadas ocultas\n",
    "P = 5"
   ]
  },
  {
   "cell_type": "code",
   "execution_count": 17,
   "metadata": {},
   "outputs": [],
   "source": [
    "#Treinando e calculando o erro\n",
    "[U,V,Ytr,Etr,EQMtr] = treinaelm(Xtr,Dtr,P)\n",
    "[Ytst,Etst,EQMt] = erroelm(Xtst,Dtst,U,V);"
   ]
  },
  {
   "cell_type": "code",
   "execution_count": 18,
   "metadata": {},
   "outputs": [
    {
     "data": {
      "image/png": "[encoded data removed]",
      "text/plain": [
       "<Figure size 432x288 with 2 Axes>"
      ]
     },
     "metadata": {},
     "output_type": "display_data"
    }
   ],
   "source": [
    "#Gráfico - dados sem escalonamento\n",
    "import matplotlib.pyplot as plt\n",
    "plt.subplot(1,2,1)\n",
    "plt.plot(Xtr,Dtr,'b.',Xtr,Ytr,'ro')\n",
    "plt.subplot(1,2,2)\n",
    "plt.plot(Xtst,Dtst,'b.',Xtst,Ytst,'ro')\n",
    "plt.show()"
   ]
  },
  {
   "cell_type": "code",
   "execution_count": 19,
   "metadata": {},
   "outputs": [
    {
     "data": {
      "text/plain": [
       "array([ 796.37340099,  711.58028777,  742.19549957,  703.98732949,\n",
       "        749.21051564,  739.26409072,  820.88377153,  697.83253572,\n",
       "        799.85964202,  674.928205  ,  704.90607875,  806.30096256,\n",
       "        821.34839791,  768.45734794,  685.92423243,  760.12827199,\n",
       "        782.77001945,  736.98247545,  676.43254699,  771.72097092,\n",
       "        812.41341714])"
      ]
     },
     "execution_count": 19,
     "metadata": {},
     "output_type": "execute_result"
    }
   ],
   "source": [
    "#Introduzindo escalonamento na representação dos resultados\n",
    "[U,V,Ytre,Etre,EQMtre] = treinaelm(Xtre,Dtre,P)\n",
    "Ytr= (Dtrmax-Dtrmin)*(Ytre-Dtremin)/(Dtremax-Dtremin)+Dtrmin\n",
    "Ytr"
   ]
  },
  {
   "cell_type": "code",
   "execution_count": 20,
   "metadata": {},
   "outputs": [
    {
     "data": {
      "text/plain": [
       "array([-0.47696139,  0.19302615, -0.14321295, -0.16064757, -0.40971357,\n",
       "       -1.16936488, -0.28268991, -0.70361146])"
      ]
     },
     "execution_count": 20,
     "metadata": {},
     "output_type": "execute_result"
    }
   ],
   "source": [
    "#Escalonando conjunto de teste\n",
    "Xtst = (Xtremax-Xtremin)*(Xtst-Xtrmin)/(Xtrmax-Xtrmin)+Xtremin;\n",
    "Xtst"
   ]
  },
  {
   "cell_type": "code",
   "execution_count": 21,
   "metadata": {},
   "outputs": [
    {
     "data": {
      "text/plain": [
       "array([ 0.20856556, -0.3200352 ,  0.08418891,  0.97711939, -0.07098856,\n",
       "       -0.50396011,  0.11088296,  0.71252567])"
      ]
     },
     "execution_count": 21,
     "metadata": {},
     "output_type": "execute_result"
    }
   ],
   "source": [
    "#Escalando Dtst para que os erros sejam calculados na escala correta\n",
    "Dtst = (Dtremax-Dtremin)*(Dtst-Dtrmin)/(Dtrmax-Dtrmin)+Dtremin;\n",
    "Dtst"
   ]
  },
  {
   "cell_type": "code",
   "execution_count": 22,
   "metadata": {},
   "outputs": [],
   "source": [
    "#Calculando o erro da rede para o conjunto de teste\n",
    "[Ytst,Etst,EQMtst] = erroelm(Xtst,Dtst,U,V);"
   ]
  },
  {
   "cell_type": "code",
   "execution_count": 23,
   "metadata": {},
   "outputs": [
    {
     "data": {
      "text/plain": [
       "array([  820.04404903,   697.95004338,   735.63747104,   743.29140081,\n",
       "         820.24320208,  1131.13266262,   792.84787782,   762.07684119])"
      ]
     },
     "execution_count": 23,
     "metadata": {},
     "output_type": "execute_result"
    }
   ],
   "source": [
    "#Escalonando Y\n",
    "Ytst = (Dtrmax-Dtrmin)*(Ytst-Dtremin)/(Dtremax-Dtremin)+Dtrmin;\n",
    "Ytst"
   ]
  },
  {
   "cell_type": "code",
   "execution_count": 25,
   "metadata": {},
   "outputs": [
    {
     "data": {
      "image/png": "[encoded data removed]",
      "text/plain": [
       "<Figure size 432x288 with 2 Axes>"
      ]
     },
     "metadata": {},
     "output_type": "display_data"
    }
   ],
   "source": [
    "#Gráfico - dados com escalonamento\n",
    "plt.subplot(1,2,1)\n",
    "plt.plot(Xtr,Dtr,'b.',Xtr,Ytr,'ro')\n",
    "plt.subplot(1,2,2)\n",
    "plt.plot(Xtst,Dtst,'b.',Xtst,Ytst,'ro')\n",
    "plt.show()"
   ]
  },
  {
   "cell_type": "markdown",
   "metadata": {},
   "source": [
    "### Comparando com a regressão linear"
   ]
  },
  {
   "cell_type": "code",
   "execution_count": 29,
   "metadata": {},
   "outputs": [],
   "source": [
    "#Função para ajuste linear\n",
    "def ajustelinear(X,D):\n",
    "    Xa = np.c_[X, np.ones(X.shape[0])]\n",
    "    teta = np.linalg.pinv(Xa)@D\n",
    "    Y = Xa@teta\n",
    "    E = D-Y\n",
    "    EQM = 1/X.shape[0]*(np.transpose(E)@E)\n",
    "    return (Y,E,teta,EQM)\n",
    "\n",
    "#Função para cálculo do erro do ajuste linear\n",
    "def erroajustelinear(X,D,teta):\n",
    "    Xa = np.c_[X, np.ones(X.shape[0])]\n",
    "    Y = Xa@teta\n",
    "    E= D - Y\n",
    "    EQM = 1/X.shape[0]*(np.transpose(E)@E)\n",
    "    return(Y,E,EQM)"
   ]
  },
  {
   "cell_type": "code",
   "execution_count": 30,
   "metadata": {},
   "outputs": [],
   "source": [
    "#Calculando valores Ajuste Linear\n",
    "[Ytr,Elintr,teta,EQMtr] = ajustelinear(Xtr,Dtr)\n",
    "[Ytst,Elintst,EQMtst] = erroajustelinear(Xtst,Dtst,teta)"
   ]
  },
  {
   "cell_type": "code",
   "execution_count": 33,
   "metadata": {},
   "outputs": [
    {
     "data": {
      "image/png": "[encoded data removed]",
      "text/plain": [
       "<Figure size 432x288 with 2 Axes>"
      ]
     },
     "metadata": {},
     "output_type": "display_data"
    }
   ],
   "source": [
    "#Gráfico - Regressão linear\n",
    "plt.subplot(1,2,1)\n",
    "plt.plot(Xtr,Dtr,'b.',Xtr,Ytr,'ro',Xtr,Ytr,'gd')\n",
    "plt.subplot(1,2,2)\n",
    "plt.plot(Xtst,Dtst,'b.',Xtst,Ytst,'ro',Xtst,Ytst,'gd')\n",
    "plt.show()"
   ]
  },
  {
   "cell_type": "code",
   "execution_count": 38,
   "metadata": {},
   "outputs": [
    {
     "data": {
      "text/plain": [
       "array([[ 5890.40932737,  5890.40932737]])"
      ]
     },
     "metadata": {},
     "output_type": "display_data"
    },
    {
     "data": {
      "text/plain": [
       "array([[  390859.09324934,  1026005.11977951]])"
      ]
     },
     "metadata": {},
     "output_type": "display_data"
    }
   ],
   "source": [
    "#Calculando EQM\n",
    "vetEQMtr = np.c_[((np.transpose(Ytr-Dtr)@(Ytr-Dtr))/numtr), EQMtr]\n",
    "vetEQMtst = np.c_[((np.transpose(Ytst-Dtst)@(Ytst-Dtst))/numtr), EQMtst]\n",
    "display(vetEQMtr,vetEQMtst)"
   ]
  }
 ],
 "metadata": {
  "kernelspec": {
   "display_name": "Python 3",
   "language": "python",
   "name": "python3"
  },
  "language_info": {
   "codemirror_mode": {
    "name": "ipython",
    "version": 3
   },
   "file_extension": ".py",
   "mimetype": "text/x-python",
   "name": "python",
   "nbconvert_exporter": "python",
   "pygments_lexer": "ipython3",
   "version": "3.6.3"
  }
 },
 "nbformat": 4,
 "nbformat_minor": 2
}
