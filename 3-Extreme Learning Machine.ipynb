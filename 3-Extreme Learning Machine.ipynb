{
 "cells": [
  {
   "cell_type": "markdown",
   "metadata": {},
   "source": [
    "# Extreme Learning Machine Implementation"
   ]
  },
  {
   "cell_type": "markdown",
   "metadata": {},
   "source": [
    "No ELM teremos os pesos de entrada dos neurônios definidos de acordo com valores de acordo com uma distribuição gaussiana. A seguir criaremos a função responsável por receber as entradas X, os valores desejados Y e o número de neurônios P. Resultando nos pesos dos neurônios de entrada (U), pesos dos neurônios de saída (V), na predição da rede (Y), na matriz de erro (E) e no erro quadrático médio (EQM)."
   ]
  },
  {
   "cell_type": "code",
   "execution_count": 4,
   "metadata": {},
   "outputs": [],
   "source": [
    "%matplotlib inline\n",
    "import numpy as np\n",
    "#function treinaelm(X, Y, P):\n",
    "#Valores de Entrada\n",
    "X = np.array([[0,0],[0,1],[1,0],[1,1]])\n",
    "D = np.array([0,1,1,1])\n",
    "P = 10\n",
    "#X = [0 0;\n",
    "#     0 1;\n",
    "#     1 0;\n",
    "#     1 1];\n",
    "#D = [0\n",
    "#     1\n",
    "#     1\n",
    "#     1];\n",
    "# P = 10;"
   ]
  },
  {
   "cell_type": "code",
   "execution_count": 10,
   "metadata": {},
   "outputs": [
    {
     "data": {
      "text/plain": [
       "array([[ 0.48958809,  1.22940473,  0.27336176],\n",
       "       [-0.09921529, -0.27819872,  1.3027976 ],\n",
       "       [ 0.87392171, -0.29441795, -0.78042058],\n",
       "       [ 0.31159236,  0.23825998,  1.38936066],\n",
       "       [ 1.24612574,  0.85825306,  0.53323224],\n",
       "       [ 1.19197366, -0.52687327,  0.28353871],\n",
       "       [ 1.18778764, -0.67801072, -0.4256908 ],\n",
       "       [ 0.2862943 ,  0.52532985, -1.47511104],\n",
       "       [-0.51912772,  2.68212262, -0.10742401],\n",
       "       [-1.50058849, -1.53892249,  0.10450519]])"
      ]
     },
     "execution_count": 10,
     "metadata": {},
     "output_type": "execute_result"
    }
   ],
   "source": [
    "#Gerando valores de U em acordo com uma distribuição gaussiana\n",
    "U = np.random.randn(P, X.shape[1]+1) #Columns number + 1 because of constants 1    \n",
    "U6-"
   ]
  },
  {
   "cell_type": "code",
   "execution_count": 13,
   "metadata": {},
   "outputs": [
    {
     "data": {
      "text/plain": [
       "array([[ 0.,  0.,  1.],\n",
       "       [ 0.,  1.,  1.],\n",
       "       [ 1.,  0.,  1.],\n",
       "       [ 1.,  1.,  1.]])"
      ]
     },
     "execution_count": 13,
     "metadata": {},
     "output_type": "execute_result"
    }
   ],
   "source": [
    "Xa = np.c_[X, np.ones([X.shape[0], 1])]\n",
    "Xa"
   ]
  },
  {
   "cell_type": "code",
   "execution_count": 17,
   "metadata": {},
   "outputs": [
    {
     "data": {
      "text/plain": [
       "array([[ 0.27336176,  1.3027976 , -0.78042058,  1.38936066,  0.53323224,\n",
       "         0.28353871, -0.4256908 , -1.47511104, -0.10742401,  0.10450519],\n",
       "       [ 1.50276649,  1.02459888, -1.07483854,  1.62762064,  1.3914853 ,\n",
       "        -0.24333456, -1.10370151, -0.94978119,  2.57469861, -1.4344173 ],\n",
       "       [ 0.76294985,  1.20358231,  0.09350113,  1.70095303,  1.77935798,\n",
       "         1.47551237,  0.76209684, -1.18881674, -0.62655173, -1.39608331],\n",
       "       [ 1.99235458,  0.92538359, -0.20091683,  1.93921301,  2.63761104,\n",
       "         0.9486391 ,  0.08408613, -0.66348689,  2.05557089, -2.9350058 ]])"
      ]
     },
     "execution_count": 17,
     "metadata": {},
     "output_type": "execute_result"
    }
   ],
   "source": [
    "M1 = Xa@np.transpose(U) #multiplicação das variáveis Xa com os seus respectivos pesos\n",
    "M1"
   ]
  },
  {
   "cell_type": "code",
   "execution_count": 18,
   "metadata": {},
   "outputs": [
    {
     "data": {
      "text/plain": [
       "array([[ 0.26675018,  0.86244162, -0.65294804,  0.88303015,  0.48784795,\n",
       "         0.27617707, -0.40171377, -0.90054797, -0.10701268,  0.1041264 ],\n",
       "       [ 0.90564693,  0.77173306, -0.79127719,  0.92572199,  0.88349724,\n",
       "        -0.2386429 , -0.80182468, -0.73968398,  0.98846116, -0.89256828],\n",
       "       [ 0.6428112 ,  0.83474402,  0.0932296 ,  0.9355281 ,  0.94462606,\n",
       "         0.9006238 ,  0.64231038, -0.83021153, -0.55567325, -0.8845021 ],\n",
       "       [ 0.96348343,  0.72843431, -0.19825627,  0.95947155,  0.98981846,\n",
       "         0.73916632,  0.08388851, -0.58067924,  0.96775044, -0.99437021]])"
      ]
     },
     "execution_count": 18,
     "metadata": {},
     "output_type": "execute_result"
    }
   ],
   "source": [
    "#Função de ativação neurônios de entrada, saída do neurônio de entrada\n",
    "H = np.tanh(M1)\n",
    "H"
   ]
  },
  {
   "cell_type": "code",
   "execution_count": 19,
   "metadata": {},
   "outputs": [
    {
     "data": {
      "text/plain": [
       "array([[ 0.26675018,  0.86244162, -0.65294804,  0.88303015,  0.48784795,\n",
       "         0.27617707, -0.40171377, -0.90054797, -0.10701268,  0.1041264 ,\n",
       "         1.        ],\n",
       "       [ 0.90564693,  0.77173306, -0.79127719,  0.92572199,  0.88349724,\n",
       "        -0.2386429 , -0.80182468, -0.73968398,  0.98846116, -0.89256828,\n",
       "         1.        ],\n",
       "       [ 0.6428112 ,  0.83474402,  0.0932296 ,  0.9355281 ,  0.94462606,\n",
       "         0.9006238 ,  0.64231038, -0.83021153, -0.55567325, -0.8845021 ,\n",
       "         1.        ],\n",
       "       [ 0.96348343,  0.72843431, -0.19825627,  0.95947155,  0.98981846,\n",
       "         0.73916632,  0.08388851, -0.58067924,  0.96775044, -0.99437021,\n",
       "         1.        ]])"
      ]
     },
     "execution_count": 19,
     "metadata": {},
     "output_type": "execute_result"
    }
   ],
   "source": [
    "#Adicionando coluna constantes\n",
    "Ha = np.c_[H, np.ones([X.shape[0], 1])]\n",
    "Ha"
   ]
  },
  {
   "cell_type": "code",
   "execution_count": 20,
   "metadata": {},
   "outputs": [
    {
     "data": {
      "text/plain": [
       "array([ 0.3017494 , -0.01046892,  0.10532043,  0.01571073,  0.2853241 ,\n",
       "       -0.26008485,  0.07988904, -0.01926725, -0.09987388, -0.72023038,\n",
       "       -0.00488379])"
      ]
     },
     "execution_count": 20,
     "metadata": {},
     "output_type": "execute_result"
    }
   ],
   "source": [
    "#pesos da entrada dos neurônios de saída\n",
    "V = np.transpose(np.linalg.pinv(Ha)@D)\n",
    "V\n",
    "#     [nl,nc]=size(X);\n",
    "# M = nc;\n",
    "# U = randn(P,M+1); % amotragem de distribuicao gaussiana\n",
    "# Xa = [X ones(nl,1)];\n",
    "# S = Xa*U';\n",
    "# H = tanh(S);\n",
    "# Ha = [H ones(nl,1)];\n",
    "# Vt = pinv(Ha)*D; % transposta de V\n",
    "# V = Vt';\n",
    "# R = Ha*V';\n",
    "# Y = R;\n",
    "# E = D-Y;\n",
    "# [nl,nc]=size(D);\n",
    "# EQM = 1/(nl*nc)*E(:)'*E(:); %eqm para rede com uma unica saida"
   ]
  },
  {
   "cell_type": "code",
   "execution_count": 21,
   "metadata": {},
   "outputs": [
    {
     "data": {
      "text/plain": [
       "array([  1.38777878e-17,   1.00000000e+00,   1.00000000e+00,\n",
       "         1.00000000e+00])"
      ]
     },
     "execution_count": 21,
     "metadata": {},
     "output_type": "execute_result"
    }
   ],
   "source": [
    "#Multiplicação das saídas dos neurônios de entrada com os pesos das entradas dos neurônios de saída\n",
    "M2 = Ha@np.transpose(V)\n",
    "M2"
   ]
  },
  {
   "cell_type": "code",
   "execution_count": 22,
   "metadata": {},
   "outputs": [],
   "source": [
    "#Gerando os valores da predição, como a função é Y(x)=x temos que Y = M2\n",
    "Y= M2"
   ]
  },
  {
   "cell_type": "code",
   "execution_count": 23,
   "metadata": {},
   "outputs": [
    {
     "data": {
      "text/plain": [
       "array([ -1.38777878e-17,   0.00000000e+00,  -2.22044605e-16,\n",
       "        -6.66133815e-16])"
      ]
     },
     "execution_count": 23,
     "metadata": {},
     "output_type": "execute_result"
    }
   ],
   "source": [
    "#Calculando a matriz de erro na saída de cada neurônio de saída\n",
    "E = D-Y\n",
    "E"
   ]
  },
  {
   "cell_type": "code",
   "execution_count": 46,
   "metadata": {},
   "outputs": [
    {
     "data": {
      "text/plain": [
       "5.0686224702604723e+29"
      ]
     },
     "execution_count": 46,
     "metadata": {},
     "output_type": "execute_result"
    }
   ],
   "source": [
    "#Erro Quadrático Médio\n",
    "EQM= 1/(np.array([D]).shape[0]*np.array([D]).shape[1]*(E@np.transpose(E)))\n",
    "EQM"
   ]
  }
 ],
 "metadata": {
  "kernelspec": {
   "display_name": "Python 3",
   "language": "python",
   "name": "python3"
  },
  "language_info": {
   "codemirror_mode": {
    "name": "ipython",
    "version": 3
   },
   "file_extension": ".py",
   "mimetype": "text/x-python",
   "name": "python",
   "nbconvert_exporter": "python",
   "pygments_lexer": "ipython3",
   "version": "3.6.3"
  }
 },
 "nbformat": 4,
 "nbformat_minor": 2
}
